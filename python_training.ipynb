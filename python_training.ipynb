{
 "cells": [
  {
   "cell_type": "markdown",
   "metadata": {},
   "source": [
    "<h1>Python Basics</h1>"
   ]
  },
  {
   "cell_type": "code",
   "execution_count": null,
   "metadata": {},
   "outputs": [
    {
     "name": "stdout",
     "output_type": "stream",
     "text": [
      "hello coders i'm harshith\n",
      "hello coder i love \n",
      "on this \n",
      "world \n"
     ]
    }
   ],
   "source": [
    "# day:1 6-3-25 \n",
    "print(\"hello coders i'm harshith\")\n",
    "h =  \"\"\"and coder i love \n",
    "to code \n",
    "anything\"\"\"\n",
    "print(h)"
   ]
  },
  {
   "cell_type": "markdown",
   "metadata": {},
   "source": [
    "<center><h1>pip and modules in python </h1></center>\n",
    "<p>pip is used to install the others code with does some (function/modules)</p>\n",
    "<p>modules as <b>2</b> types pre build modules and extranal modules</p>\n",
    "\n"
   ]
  },
  {
   "cell_type": "code",
   "execution_count": 3,
   "metadata": {},
   "outputs": [
    {
     "name": "stdout",
     "output_type": "stream",
     "text": [
      "Requirement already satisfied: pyjokes in c:\\users\\lovel\\appdata\\local\\programs\\python\\python313\\lib\\site-packages (0.8.3)\n",
      "Note: you may need to restart the kernel to use updated packages.\n"
     ]
    },
    {
     "name": "stderr",
     "output_type": "stream",
     "text": [
      "\n",
      "[notice] A new release of pip is available: 24.3.1 -> 25.0.1\n",
      "[notice] To update, run: python.exe -m pip install --upgrade pip\n"
     ]
    }
   ],
   "source": [
    "pip install pyjokes"
   ]
  },
  {
   "cell_type": "code",
   "execution_count": 2,
   "metadata": {},
   "outputs": [
    {
     "name": "stdout",
     "output_type": "stream",
     "text": [
      "Why did the QA cross the road? To ruin everyone's day.\n"
     ]
    }
   ],
   "source": [
    "import pyjokes\n",
    "\n",
    "j =  pyjokes.get_joke()\n",
    "print(j)"
   ]
  },
  {
   "cell_type": "markdown",
   "metadata": {},
   "source": [
    "<h1>variable and datatype<h1>"
   ]
  },
  {
   "cell_type": "code",
   "execution_count": 47,
   "metadata": {},
   "outputs": [
    {
     "name": "stdout",
     "output_type": "stream",
     "text": [
      "<class 'int'>\n",
      "<class 'float'>\n",
      "<class 'str'>\n",
      "<class 'bool'>\n",
      "<class 'NoneType'>\n"
     ]
    }
   ],
   "source": [
    "a =  1 # a is an intger\n",
    "\n",
    "b  = 1.1 #b is a floating point number\n",
    "\n",
    "c =  \"harshith\" # c is string\n",
    "\n",
    "d =  True # boolean \n",
    "\n",
    "e =  None \n",
    "\n",
    "print(type(a))\n",
    "print(type(b))\n",
    "print(type(c))\n",
    "print(type(d))\n",
    "print(type(e))\n"
   ]
  },
  {
   "cell_type": "markdown",
   "metadata": {},
   "source": [
    "<h1>Arithmetic Operators</h1>"
   ]
  },
  {
   "cell_type": "code",
   "execution_count": 4,
   "metadata": {},
   "outputs": [
    {
     "name": "stdout",
     "output_type": "stream",
     "text": [
      "30\n",
      "-10\n",
      "200\n",
      "0.5\n",
      "10\n",
      "0\n",
      "100000000000000000000\n"
     ]
    }
   ],
   "source": [
    "a  =  10\n",
    "b  =  20\n",
    "print(a+b)\n",
    "print(a-b)\n",
    "print(a*b)\n",
    "print(a/b)\n",
    "print(a%b)\n",
    "print(a//b)\n",
    "print(a**b)\n"
   ]
  },
  {
   "cell_type": "markdown",
   "metadata": {},
   "source": [
    "<h1>Comparison Operators</h1>"
   ]
  },
  {
   "cell_type": "code",
   "execution_count": 33,
   "metadata": {},
   "outputs": [
    {
     "name": "stdout",
     "output_type": "stream",
     "text": [
      "True\n",
      "True\n",
      "False\n"
     ]
    }
   ],
   "source": [
    "a = 5>4\n",
    "# Comparison Operators all ways return boolean\n",
    "print(a)\n",
    "a = 5!=4\n",
    "print(a)\n",
    "a = 5==4\n",
    "print(a)"
   ]
  },
  {
   "cell_type": "markdown",
   "metadata": {},
   "source": [
    "<h1>Logical Operators</h1> "
   ]
  },
  {
   "cell_type": "code",
   "execution_count": 44,
   "metadata": {},
   "outputs": [
    {
     "name": "stdout",
     "output_type": "stream",
     "text": [
      "\n",
      "OR\n",
      "True\n",
      "True\n",
      "False\n",
      "\n",
      "AND\n",
      "False\n",
      "True\n",
      "False\n",
      "\n",
      "NOT\n",
      "False\n",
      "True\n"
     ]
    }
   ],
   "source": [
    "# OR Operators\n",
    "print(\"\\nOR\")\n",
    "e =  True or False\n",
    "print(e)\n",
    "e =  True or True\n",
    "print(e)\n",
    "e =  False or False\n",
    "print(e)\n",
    "\n",
    "# And Operators\n",
    "print(\"\\nAND\")\n",
    "e =  True and False\n",
    "print(e)\n",
    "e =  True and True\n",
    "print(e)\n",
    "e =  False and False\n",
    "print(e)\n",
    "\n",
    "\n",
    "# not Operators\n",
    "print(\"\\nNOT\")\n",
    "print(not(True))\n",
    "print(not(False))"
   ]
  },
  {
   "cell_type": "markdown",
   "metadata": {},
   "source": [
    "<h1>Type & TypeCasting</h1>"
   ]
  },
  {
   "cell_type": "code",
   "execution_count": 51,
   "metadata": {},
   "outputs": [
    {
     "name": "stdout",
     "output_type": "stream",
     "text": [
      "33.0\n"
     ]
    }
   ],
   "source": [
    "a =  31\n",
    "type(a) # class <int>\n",
    "b = int('2')\n",
    "\n",
    "print(float(b+a))\n"
   ]
  },
  {
   "cell_type": "markdown",
   "metadata": {},
   "source": [
    "<h1>Input function</h1>"
   ]
  },
  {
   "cell_type": "code",
   "execution_count": 57,
   "metadata": {},
   "outputs": [
    {
     "name": "stdout",
     "output_type": "stream",
     "text": [
      "23.0\n"
     ]
    }
   ],
   "source": [
    "a =  float(input(\"Enter the number one\"))\n",
    "b =  float(input(\"Enter the number two\"))\n",
    "print(a+b)"
   ]
  },
  {
   "cell_type": "code",
   "execution_count": 62,
   "metadata": {},
   "outputs": [
    {
     "data": {
      "text/plain": [
       "str"
      ]
     },
     "execution_count": 62,
     "metadata": {},
     "output_type": "execute_result"
    }
   ],
   "source": [
    "# every time input is tring\n",
    "a =  input(\"Enter the anything\")\n",
    "type(a)"
   ]
  },
  {
   "cell_type": "code",
   "execution_count": 60,
   "metadata": {},
   "outputs": [
    {
     "name": "stdout",
     "output_type": "stream",
     "text": [
      "True\n"
     ]
    }
   ],
   "source": [
    "a =  34 \n",
    "b =  80\n",
    "print(a<b)"
   ]
  },
  {
   "cell_type": "code",
   "execution_count": 65,
   "metadata": {},
   "outputs": [
    {
     "name": "stdout",
     "output_type": "stream",
     "text": [
      "50.0\n"
     ]
    }
   ],
   "source": [
    "a =  int(input(\"Enter the number one\"))\n",
    "b =  int(input(\"Enter the number two\"))\n",
    "print((a+b)/2)"
   ]
  },
  {
   "cell_type": "code",
   "execution_count": 71,
   "metadata": {},
   "outputs": [
    {
     "name": "stdout",
     "output_type": "stream",
     "text": [
      "4\n",
      "4\n",
      "0\n"
     ]
    }
   ],
   "source": [
    "a =  int(input(\"Enter the number one\"))\n",
    "print(a*a)\n",
    "print(a**2)\n",
    "print(a^2) # wrong way to get square "
   ]
  },
  {
   "cell_type": "markdown",
   "metadata": {},
   "source": [
    "<h1>Strings</h1>"
   ]
  },
  {
   "cell_type": "code",
   "execution_count": 17,
   "metadata": {},
   "outputs": [
    {
     "name": "stdout",
     "output_type": "stream",
     "text": [
      "har\n",
      "arshit\n"
     ]
    }
   ],
   "source": [
    "name =  \"harshith\"\n",
    "\n",
    "nameshort =  name[0:3]\n",
    "print(nameshort)\n",
    "\n",
    "print(name[-7: -1])"
   ]
  },
  {
   "cell_type": "code",
   "execution_count": 22,
   "metadata": {},
   "outputs": [
    {
     "name": "stdout",
     "output_type": "stream",
     "text": [
      "1357\n"
     ]
    }
   ],
   "source": [
    "a =  \"0123456789\"\n",
    "\n",
    "print(a[1:8:2])"
   ]
  },
  {
   "cell_type": "markdown",
   "metadata": {},
   "source": [
    "<h1>String Function</h1>"
   ]
  },
  {
   "cell_type": "code",
   "execution_count": 37,
   "metadata": {},
   "outputs": [
    {
     "name": "stdout",
     "output_type": "stream",
     "text": [
      "8\n",
      "True\n",
      "False\n",
      "Harshith\n",
      "HARSHITH\n",
      "harshith\n",
      "bad\n",
      "\n",
      " \t \\t \"double bad\" code's\n"
     ]
    }
   ],
   "source": [
    "name = \"Harshith\"\n",
    "\n",
    "print(len(name))  \n",
    "print(name.endswith(\"ith\"))\n",
    "print(name.startswith(\"ha\")) # case is diffrent  \n",
    "\n",
    "print(name.capitalize())\n",
    "print(name.upper())\n",
    "print(name.lower())\n",
    "\n",
    "sen  = \"good\"\n",
    "\n",
    "print(sen.replace(\"good\",\"bad\"))\n",
    "\n",
    "print(\"\\n \\t \\\\t \\\"double bad\\\"\",'code\\'s')\n",
    "\n"
   ]
  },
  {
   "cell_type": "code",
   "execution_count": 38,
   "metadata": {},
   "outputs": [
    {
     "name": "stdout",
     "output_type": "stream",
     "text": [
      "good afternoon harshith\n"
     ]
    }
   ],
   "source": [
    "name = input(\"what your name\")\n",
    "print(f\"good afternoon {name}\")"
   ]
  },
  {
   "cell_type": "code",
   "execution_count": 2,
   "metadata": {},
   "outputs": [
    {
     "name": "stdout",
     "output_type": "stream",
     "text": [
      "Dear harshith,\n",
      "Yor are Selected!\n",
      "1st may 2025\n",
      "4\n"
     ]
    }
   ],
   "source": [
    "letter = '''Dear <|Name|>,\n",
    "Yor are Selected!\n",
    "<|Date|>'''\n",
    "\n",
    "print(letter.replace(\"<|Name|>\",\"harshith\").replace(\"<|Date|>\",\"1st may 2025\")) #chainning \n",
    "\n",
    "sent =  \"code  on\"\n",
    "print(sent.find(\"  \"))"
   ]
  },
  {
   "cell_type": "markdown",
   "metadata": {},
   "source": [
    "<h1>List </h1>\n",
    "<h3>u can store any of the type in list and list is mutable</h3>"
   ]
  },
  {
   "cell_type": "code",
   "execution_count": 3,
   "metadata": {},
   "outputs": [
    {
     "data": {
      "text/plain": [
       "'kumar'"
      ]
     },
     "execution_count": 3,
     "metadata": {},
     "output_type": "execute_result"
    }
   ],
   "source": [
    "friends  = [\"apple\",\"orange\",5,87.3,True,\"kumar\"]\n",
    "\n",
    "friends[5]"
   ]
  },
  {
   "cell_type": "code",
   "execution_count": 17,
   "metadata": {},
   "outputs": [
    {
     "name": "stdout",
     "output_type": "stream",
     "text": [
      "['apple', 'orange', 5, 87.3, True, 'kumar']\n",
      "['apple', 'orange', 5, 87.3, True, 'kumar', 'Harry']\n",
      "\n",
      "[1, 2, 3, 4, 5, 6]\n",
      "\n",
      "[1, 2, 3, 32, 4, 5, 6]\n",
      "\n",
      "[6, 5, 4, 3, 2, 1]\n",
      "[6, 5, 4, 3, 2]\n"
     ]
    }
   ],
   "source": [
    "# list methods\n",
    "friends  = [\"apple\",\"orange\",5,87.3,True,\"kumar\"]\n",
    "print(friends)\n",
    "\n",
    "\n",
    "friends.append(\"Harry\")\n",
    "print(friends)\n",
    "\n",
    "print()\n",
    "# l1.sort()\n",
    "li  =  [1,6,4,2,5,3]\n",
    "li.sort()\n",
    "print(li)\n",
    "print()\n",
    "\n",
    "li.insert(3, 32)\n",
    "print(li)\n",
    "print()\n",
    "\n",
    "li.pop(3)#it even return the poped element\n",
    "li.reverse()\n",
    "print(li)\n",
    "\n",
    "li.remove(1)\n",
    "print(li)"
   ]
  },
  {
   "cell_type": "markdown",
   "metadata": {},
   "source": [
    "<h1>Tuple</h1>\n",
    "<h4>u can't change it </h4>"
   ]
  },
  {
   "cell_type": "code",
   "execution_count": null,
   "metadata": {},
   "outputs": [
    {
     "name": "stdout",
     "output_type": "stream",
     "text": [
      "<class 'int'>\n"
     ]
    }
   ],
   "source": [
    "a = (1,)\n",
    "print(type(a))"
   ]
  },
  {
   "cell_type": "code",
   "execution_count": 31,
   "metadata": {},
   "outputs": [
    {
     "name": "stdout",
     "output_type": "stream",
     "text": [
      "(1, 2, False, 'coder', 45)\n",
      "1\n",
      "(1, 2, False, 'coder', 45, 1, 2, False, 'coder', 45, 1, 2, False, 'coder', 45)\n",
      "15\n",
      "1 2 4\n"
     ]
    }
   ],
   "source": [
    "a =  (1,2,False,\"coder\",45)\n",
    "print(a)\n",
    "\n",
    "no = a.count(45)\n",
    "print(no)\n",
    "\n",
    "a.index(45)\n",
    "\n",
    "mytuple  =  a * 3\n",
    "print(mytuple)\n",
    "print(len(mytuple))\n",
    "\n",
    "tup = (1,2,4)\n",
    "c,d,f = tup\n",
    "print(c,d,f)"
   ]
  },
  {
   "cell_type": "code",
   "execution_count": null,
   "metadata": {},
   "outputs": [
    {
     "name": "stdout",
     "output_type": "stream",
     "text": [
      "['apple', 'orange', 'banana', 'mango', 'grapes', 'apple', 'oarnge']\n"
     ]
    }
   ],
   "source": [
    "fruits = [] # list challenge program\n",
    "for i in range(7):\n",
    "    inp  = input(\"Enter the fruite \") \n",
    "    fruits.append(inp)\n",
    "\n",
    "print(fruits)"
   ]
  },
  {
   "cell_type": "code",
   "execution_count": 39,
   "metadata": {},
   "outputs": [
    {
     "name": "stdout",
     "output_type": "stream",
     "text": [
      "[45, 49, 57, 58, 68, 86, 95]\n"
     ]
    }
   ],
   "source": [
    "student = []\n",
    "for i in range(7):\n",
    "    inp  = int(input(\"Enter the student \")) \n",
    "    student.append(inp)\n",
    "student.sort()\n",
    "print(student)"
   ]
  },
  {
   "cell_type": "code",
   "execution_count": 40,
   "metadata": {},
   "outputs": [
    {
     "ename": "TypeError",
     "evalue": "'tuple' object does not support item assignment",
     "output_type": "error",
     "traceback": [
      "\u001b[31m---------------------------------------------------------------------------\u001b[39m",
      "\u001b[31mTypeError\u001b[39m                                 Traceback (most recent call last)",
      "\u001b[36mCell\u001b[39m\u001b[36m \u001b[39m\u001b[32mIn[40]\u001b[39m\u001b[32m, line 3\u001b[39m\n\u001b[32m      1\u001b[39m a = (\u001b[32m34\u001b[39m,\u001b[32m23\u001b[39m,\u001b[33m\"\u001b[39m\u001b[33mharry\u001b[39m\u001b[33m\"\u001b[39m)\n\u001b[32m----> \u001b[39m\u001b[32m3\u001b[39m \u001b[43ma\u001b[49m\u001b[43m[\u001b[49m\u001b[32;43m2\u001b[39;49m\u001b[43m]\u001b[49m = \u001b[33m\"\u001b[39m\u001b[33mlareyy\u001b[39m\u001b[33m\"\u001b[39m\n",
      "\u001b[31mTypeError\u001b[39m: 'tuple' object does not support item assignment"
     ]
    }
   ],
   "source": [
    "a = (34,23,\"harry\")\n",
    "\n",
    "a[2] = \"lareyy\""
   ]
  },
  {
   "cell_type": "code",
   "execution_count": 42,
   "metadata": {},
   "outputs": [
    {
     "name": "stdout",
     "output_type": "stream",
     "text": [
      "390\n"
     ]
    }
   ],
   "source": [
    "l = [23,45,65,78,89,90]\n",
    "print(sum(l))"
   ]
  },
  {
   "cell_type": "code",
   "execution_count": 43,
   "metadata": {},
   "outputs": [
    {
     "name": "stdout",
     "output_type": "stream",
     "text": [
      "3\n"
     ]
    }
   ],
   "source": [
    "a  =  (0,0,7,8,0,9)\n",
    "\n",
    "print(a.count(0))"
   ]
  },
  {
   "cell_type": "markdown",
   "metadata": {},
   "source": [
    "<h1>Dictionary</h1>"
   ]
  },
  {
   "cell_type": "code",
   "execution_count": null,
   "metadata": {},
   "outputs": [
    {
     "data": {
      "text/plain": [
       "dict"
      ]
     },
     "execution_count": 27,
     "metadata": {},
     "output_type": "execute_result"
    }
   ],
   "source": [
    "d = {} #empty dictionary\n",
    "type(d)"
   ]
  },
  {
   "cell_type": "code",
   "execution_count": 23,
   "metadata": {},
   "outputs": [
    {
     "name": "stdout",
     "output_type": "stream",
     "text": [
      "{'name': 'python Programer', 'page': 955, 'price': 10.5}\n"
     ]
    }
   ],
   "source": [
    "marks = {\n",
    "    \"harshith\":90,\n",
    "    \"Coder\":100,\n",
    "    \"non coder\": 50,\n",
    "    \"book\":{\n",
    "        \"name\":\"python Programer\",\n",
    "        \"page\":955,\n",
    "        \"price\": 10.5\n",
    "    }\n",
    "}\n",
    "\n",
    "print(marks[\"book\"])"
   ]
  },
  {
   "cell_type": "markdown",
   "metadata": {},
   "source": [
    "<h3>Dictionary methods</h3>"
   ]
  },
  {
   "cell_type": "code",
   "execution_count": 11,
   "metadata": {},
   "outputs": [
    {
     "name": "stdout",
     "output_type": "stream",
     "text": [
      "dict_items([('harshith', 90), ('Coder', 99), ('non coder', 50), ('book', {'name': 'python Programer', 'page': 955, 'price': 10.5}), ('pro coder', 100)])\n",
      "dict_keys(['harshith', 'Coder', 'non coder', 'book', 'pro coder'])\n",
      "dict_values([90, 99, 50, {'name': 'python Programer', 'page': 955, 'price': 10.5}, 100])\n"
     ]
    }
   ],
   "source": [
    "print(marks.items())\n",
    "print(marks.keys())\n",
    "print(marks.values())"
   ]
  },
  {
   "cell_type": "code",
   "execution_count": 33,
   "metadata": {},
   "outputs": [
    {
     "name": "stdout",
     "output_type": "stream",
     "text": [
      "{'harshith': 90, 'Coder': 99, 'book': {'name': 'python Programer', 'page': 955, 'price': 10.5}, 'pro coder': 100}\n",
      "4\n"
     ]
    }
   ],
   "source": [
    "marks.update({\"Coder\":99, \"pro coder\":100})\n",
    "print(marks)\n",
    "print(len(marks))"
   ]
  },
  {
   "cell_type": "code",
   "execution_count": 16,
   "metadata": {},
   "outputs": [
    {
     "name": "stdout",
     "output_type": "stream",
     "text": [
      "None\n",
      "100\n"
     ]
    }
   ],
   "source": [
    "print(marks.get(\"shivika\")) # return none\n",
    "print(marks.get(\"pro coder\")) \n",
    "# print(marks[\"shivika\"]) # return erorr"
   ]
  },
  {
   "cell_type": "code",
   "execution_count": 24,
   "metadata": {},
   "outputs": [
    {
     "name": "stdout",
     "output_type": "stream",
     "text": [
      "50\n",
      "{'harshith': 90, 'Coder': 100, 'book': {'name': 'python Programer', 'page': 955, 'price': 10.5}}\n"
     ]
    }
   ],
   "source": [
    "print(marks.pop('non coder'))\n",
    "print(marks)"
   ]
  },
  {
   "cell_type": "markdown",
   "metadata": {},
   "source": [
    "<h1>Sets</h1>"
   ]
  },
  {
   "cell_type": "code",
   "execution_count": 46,
   "metadata": {},
   "outputs": [
    {
     "name": "stdout",
     "output_type": "stream",
     "text": [
      "{1, 2, 33} <class 'set'>\n",
      "{1}\n"
     ]
    }
   ],
   "source": [
    "# its unordered\n",
    "# unindexed \n",
    "s = {1,2,33}\n",
    "print(s,type(s))\n",
    "\n",
    "\n",
    "e  = set() #Dont use s= {} as it will create an empty dictionary\n",
    "e.add(1)\n",
    "print(e)\n"
   ]
  },
  {
   "cell_type": "markdown",
   "metadata": {},
   "source": [
    "<h3>Sets Methods</h3>"
   ]
  },
  {
   "cell_type": "code",
   "execution_count": 39,
   "metadata": {},
   "outputs": [
    {
     "name": "stdout",
     "output_type": "stream",
     "text": [
      "3\n",
      "None\n"
     ]
    }
   ],
   "source": [
    "print(len(s))\n",
    "print(s.remove(33))"
   ]
  },
  {
   "cell_type": "code",
   "execution_count": 47,
   "metadata": {},
   "outputs": [
    {
     "name": "stdout",
     "output_type": "stream",
     "text": [
      "{2, 33}\n"
     ]
    }
   ],
   "source": [
    "s.pop() # dpnot use for set it remove randomly\n",
    "print(s)"
   ]
  },
  {
   "cell_type": "code",
   "execution_count": 44,
   "metadata": {},
   "outputs": [
    {
     "name": "stdout",
     "output_type": "stream",
     "text": [
      "None\n"
     ]
    }
   ],
   "source": [
    "print(s.clear())"
   ]
  },
  {
   "cell_type": "markdown",
   "metadata": {},
   "source": [
    "<h4>Set union intersection </h4>"
   ]
  },
  {
   "cell_type": "code",
   "execution_count": 52,
   "metadata": {},
   "outputs": [
    {
     "name": "stdout",
     "output_type": "stream",
     "text": [
      "{1, 66, 3, 68, 5, 55}\n",
      "{1}\n",
      "{68, 55}\n"
     ]
    }
   ],
   "source": [
    "s1  =  {1,55,68}\n",
    "s2  = {5,66,3,1}\n",
    "\n",
    "print(s1.union(s2)) # CONNECT BOTH AND ONLY UNIQUE VALUE\n",
    "print(s1.intersection(s2)) # connect both and give simler value\n",
    "print(s1 -  s2)"
   ]
  },
  {
   "cell_type": "markdown",
   "metadata": {},
   "source": [
    "challenges practice set"
   ]
  },
  {
   "cell_type": "code",
   "execution_count": 56,
   "metadata": {},
   "outputs": [
    {
     "name": "stdout",
     "output_type": "stream",
     "text": [
      "help\n"
     ]
    }
   ],
   "source": [
    "words = {\n",
    "    \"sahaya\":\"help\",\n",
    "    \"kurchi\":\"chair\",\n",
    "    \"ba\":\"come\"\n",
    "}\n",
    "\n",
    "word  =  input(\"Enter the word you wnat to know\")\n",
    "print(words.get(word))"
   ]
  },
  {
   "cell_type": "code",
   "execution_count": null,
   "metadata": {},
   "outputs": [
    {
     "name": "stdout",
     "output_type": "stream",
     "text": [
      "{1, 3, 4, 5, 8}\n"
     ]
    }
   ],
   "source": [
    "s3  =  set()\n",
    "for i in range(8):\n",
    "    s3.add(int(input(\"Enter the number\")))\n",
    "\n",
    "print(s3)"
   ]
  },
  {
   "cell_type": "code",
   "execution_count": null,
   "metadata": {},
   "outputs": [
    {
     "name": "stdout",
     "output_type": "stream",
     "text": [
      "{1, 2, 3, 4, 5, 6, 7, 8, '1'}\n"
     ]
    }
   ],
   "source": [
    "s3  =  set()\n",
    "for i in range(8):\n",
    "    s3.add(int(input(\"Enter the number\")))\n",
    "\n",
    "s3.add(\"1\")\n",
    "#if it is diffrent type we can store \n",
    "# // but int and float are same like \n",
    "# 1 = 1.0 is true\n",
    "s3.add(1.0)\n",
    "print(s3)"
   ]
  },
  {
   "cell_type": "code",
   "execution_count": 63,
   "metadata": {},
   "outputs": [
    {
     "name": "stdout",
     "output_type": "stream",
     "text": [
      "<class 'dict'>\n"
     ]
    }
   ],
   "source": [
    "s  = {}\n",
    "print(type(s))"
   ]
  },
  {
   "cell_type": "code",
   "execution_count": null,
   "metadata": {},
   "outputs": [
    {
     "name": "stdout",
     "output_type": "stream",
     "text": [
      "{'harshith': 'c', 'coderharshith': 'python', 'devharshith': 'java', 'pro coder': 'c++'}\n"
     ]
    }
   ],
   "source": [
    "frd = {}\n",
    "\n",
    "for i in range(4): \n",
    "    frd.update({input(\"Enter name\"):input(\"Enter language\")})\n",
    "\n",
    "print(frd)\n",
    "# if name is same then it apdate latest one do not create multiple name \n",
    "# but we store same value "
   ]
  },
  {
   "cell_type": "code",
   "execution_count": null,
   "metadata": {},
   "outputs": [
    {
     "ename": "TypeError",
     "evalue": "unhashable type: 'list'",
     "output_type": "error",
     "traceback": [
      "\u001b[31m---------------------------------------------------------------------------\u001b[39m",
      "\u001b[31mTypeError\u001b[39m                                 Traceback (most recent call last)",
      "\u001b[36mCell\u001b[39m\u001b[36m \u001b[39m\u001b[32mIn[67]\u001b[39m\u001b[32m, line 1\u001b[39m\n\u001b[32m----> \u001b[39m\u001b[32m1\u001b[39m s = {\u001b[32m8\u001b[39m,\u001b[32m4\u001b[39m,\u001b[32m5\u001b[39m,\u001b[33m\"\u001b[39m\u001b[33mcoder\u001b[39m\u001b[33m\"\u001b[39m,[\u001b[32m6\u001b[39m,\u001b[32m5\u001b[39m]}\n\u001b[32m      3\u001b[39m s[\u001b[32m4\u001b[39m][\u001b[32m0\u001b[39m] = \u001b[32m5\u001b[39m\n",
      "\u001b[31mTypeError\u001b[39m: unhashable type: 'list'"
     ]
    }
   ],
   "source": [
    "s = {8,4,5,\"coder\",[6,5]}\n",
    "# list is not hash able \n",
    "s[4][0] = 5"
   ]
  },
  {
   "cell_type": "markdown",
   "metadata": {},
   "source": [
    "<h1>Conditionals</h1>"
   ]
  },
  {
   "cell_type": "code",
   "execution_count": 6,
   "metadata": {},
   "outputs": [
    {
     "name": "stdout",
     "output_type": "stream",
     "text": [
      "u can't vote\n",
      "\n",
      " thank you for using \n"
     ]
    }
   ],
   "source": [
    "a = int(input(\"Enter the age: \"))\n",
    "\n",
    "if a > 18:\n",
    "    print(\"u can vote\")\n",
    "elif a<0:\n",
    "    print(\"wrong age u are entring\")\n",
    "else:\n",
    "    print(\"u can't vote\")\n",
    "\n",
    "\n",
    "print(\"\\n thank you for using \")"
   ]
  },
  {
   "cell_type": "code",
   "execution_count": 8,
   "metadata": {},
   "outputs": [
    {
     "name": "stdout",
     "output_type": "stream",
     "text": [
      "odd\n"
     ]
    }
   ],
   "source": [
    "a= 9\n",
    "if a%2 == 0:\n",
    "    print(\"even\")\n",
    "else:\n",
    "    print(\"odd\")\n"
   ]
  },
  {
   "cell_type": "code",
   "execution_count": 22,
   "metadata": {},
   "outputs": [
    {
     "ename": "TypeError",
     "evalue": "'int' object is not subscriptable",
     "output_type": "error",
     "traceback": [
      "\u001b[31m---------------------------------------------------------------------------\u001b[39m",
      "\u001b[31mTypeError\u001b[39m                                 Traceback (most recent call last)",
      "\u001b[36mCell\u001b[39m\u001b[36m \u001b[39m\u001b[32mIn[22]\u001b[39m\u001b[32m, line 8\u001b[39m\n\u001b[32m      6\u001b[39m \u001b[38;5;28;01mfor\u001b[39;00m j  \u001b[38;5;129;01min\u001b[39;00m \u001b[38;5;28mrange\u001b[39m(i):\n\u001b[32m      7\u001b[39m     \u001b[38;5;28;01mif\u001b[39;00m i > j:\n\u001b[32m----> \u001b[39m\u001b[32m8\u001b[39m         \u001b[38;5;28mprint\u001b[39m(\u001b[43mli\u001b[49m\u001b[43m[\u001b[49m\u001b[43mi\u001b[49m\u001b[43m]\u001b[49m) \n",
      "\u001b[31mTypeError\u001b[39m: 'int' object is not subscriptable"
     ]
    }
   ],
   "source": [
    "li  =  []\n",
    "for i in range(4):\n",
    "    li =int(input(f\"Enter number\"))\n",
    "\n",
    "for i in range(4):\n",
    "    for j  in range(i):\n",
    "        if i > j:\n",
    "            print(li[i]) "
   ]
  },
  {
   "cell_type": "markdown",
   "metadata": {},
   "source": [
    "<h1>Loops</h1>\n",
    "<h3>While and for loops are there</h3>"
   ]
  },
  {
   "cell_type": "code",
   "execution_count": 26,
   "metadata": {},
   "outputs": [
    {
     "name": "stdout",
     "output_type": "stream",
     "text": [
      "1\n",
      "2\n",
      "3\n",
      "4\n",
      "5\n"
     ]
    }
   ],
   "source": [
    "for i in range(1,6):\n",
    "    print(i)"
   ]
  },
  {
   "cell_type": "code",
   "execution_count": 28,
   "metadata": {},
   "outputs": [
    {
     "name": "stdout",
     "output_type": "stream",
     "text": [
      "1\n",
      "2\n",
      "3\n",
      "4\n",
      "5\n"
     ]
    }
   ],
   "source": [
    "i  = 1\n",
    "while(i<6):\n",
    "    print(i)\n",
    "    i +=1"
   ]
  },
  {
   "cell_type": "code",
   "execution_count": 1,
   "metadata": {},
   "outputs": [
    {
     "name": "stdout",
     "output_type": "stream",
     "text": [
      "1\n",
      "coder\n",
      "True\n",
      "can\n"
     ]
    }
   ],
   "source": [
    "l = [1, \"coder\",True,\"can\"]\n",
    "\n",
    "i = 0\n",
    "while i < len(l):\n",
    "    print(l[i])\n",
    "    i+=1"
   ]
  },
  {
   "cell_type": "code",
   "execution_count": null,
   "metadata": {},
   "outputs": [
    {
     "name": "stdout",
     "output_type": "stream",
     "text": [
      "1\n",
      "coder\n",
      "True\n",
      "can\n",
      "super\n",
      "bazuka\n"
     ]
    }
   ],
   "source": [
    "l = [1, \"coder\",True,\"can\",\"super\",\"bazuka\"] #for loop with list\n",
    "for i in l:\n",
    "    print(i)"
   ]
  },
  {
   "cell_type": "code",
   "execution_count": null,
   "metadata": {},
   "outputs": [
    {
     "name": "stdout",
     "output_type": "stream",
     "text": [
      "6\n",
      "231\n",
      "32\n",
      "332\n",
      "656\n"
     ]
    }
   ],
   "source": [
    "t =  (6, 231, 32,332, 656) #for loop with tuple\n",
    "\n",
    "for i in t:\n",
    "    print(i)"
   ]
  },
  {
   "cell_type": "code",
   "execution_count": 12,
   "metadata": {},
   "outputs": [
    {
     "name": "stdout",
     "output_type": "stream",
     "text": [
      "c\n",
      "o\n",
      "d\n",
      "e\n",
      "r\n"
     ]
    }
   ],
   "source": [
    "s =  \"coder\" # for loop with string\n",
    "for i in s:\n",
    "    print(i)"
   ]
  },
  {
   "cell_type": "code",
   "execution_count": 15,
   "metadata": {},
   "outputs": [
    {
     "name": "stdout",
     "output_type": "stream",
     "text": [
      "0\n",
      "5\n",
      "10\n",
      "15\n"
     ]
    }
   ],
   "source": [
    "for i in range(0, 20,5):\n",
    "    print(i)"
   ]
  },
  {
   "cell_type": "code",
   "execution_count": 17,
   "metadata": {},
   "outputs": [
    {
     "name": "stdout",
     "output_type": "stream",
     "text": [
      "1\n",
      "2\n",
      "3\n",
      "list printed\n"
     ]
    }
   ],
   "source": [
    "# for with else\n",
    "l= [1,2,3] \n",
    "for i in l:\n",
    "    print(i)\n",
    "else:\n",
    "    print(\"list printed\")"
   ]
  },
  {
   "cell_type": "code",
   "execution_count": 22,
   "metadata": {},
   "outputs": [
    {
     "name": "stdout",
     "output_type": "stream",
     "text": [
      "0\n",
      "1\n",
      "2\n"
     ]
    }
   ],
   "source": [
    "for i in range(0,20):\n",
    "    if i == 3:\n",
    "        break\n",
    "    print(i)"
   ]
  },
  {
   "cell_type": "code",
   "execution_count": null,
   "metadata": {},
   "outputs": [
    {
     "name": "stdout",
     "output_type": "stream",
     "text": [
      "0\n",
      "1\n",
      "2\n",
      "4\n"
     ]
    }
   ],
   "source": [
    "for i in range(5):\n",
    "    if i == 3:\n",
    "        continue # Skip this iteration\n",
    "    print(i)"
   ]
  },
  {
   "cell_type": "code",
   "execution_count": 26,
   "metadata": {},
   "outputs": [
    {
     "name": "stdout",
     "output_type": "stream",
     "text": [
      "0\n",
      "1\n",
      "2\n",
      "3\n",
      "4\n"
     ]
    }
   ],
   "source": [
    "for i in range(645):\n",
    "    pass # pass is a null statement in python it skip the function and loop\n",
    "\n",
    "i =0\n",
    "while(i<5):\n",
    "    print(i)\n",
    "    i +=1"
   ]
  },
  {
   "cell_type": "code",
   "execution_count": 29,
   "metadata": {},
   "outputs": [
    {
     "name": "stdout",
     "output_type": "stream",
     "text": [
      "2x1=2\n",
      "2x2=4\n",
      "2x3=6\n",
      "2x4=8\n",
      "2x5=10\n",
      "2x6=12\n",
      "2x7=14\n",
      "2x8=16\n",
      "2x9=18\n",
      "2x10=20\n"
     ]
    }
   ],
   "source": [
    "# loop practice set\n",
    "num =  int(input(\"enter the number \"))\n",
    "for i in range(1,11):\n",
    "    print(f\"{num}x{i}={num*i}\")"
   ]
  },
  {
   "cell_type": "code",
   "execution_count": 34,
   "metadata": {},
   "outputs": [
    {
     "name": "stdout",
     "output_type": "stream",
     "text": [
      "Welcome to harshith mind coder\n",
      "False\n"
     ]
    }
   ],
   "source": [
    "l = ['hacker','coder','developer','engineer']\n",
    "\n",
    "for i in l:\n",
    "    if (i.startswith('c')):\n",
    "        print(f\"Welcome to harshith mind {i}\")\n",
    "\n",
    "\n",
    "print(l[1].__contains__('m'))"
   ]
  },
  {
   "cell_type": "code",
   "execution_count": 37,
   "metadata": {},
   "outputs": [
    {
     "name": "stdout",
     "output_type": "stream",
     "text": [
      "5x1=5\n",
      "5x2=10\n",
      "5x3=15\n",
      "5x4=20\n",
      "5x5=25\n",
      "5x6=30\n",
      "5x7=35\n",
      "5x8=40\n",
      "5x9=45\n",
      "5x10=50\n"
     ]
    }
   ],
   "source": [
    "num =  int(input(\"enter the number \"))\n",
    "i = 1\n",
    "while i < 11:\n",
    "    print(f\"{num}x{i}={num*i}\")\n",
    "    i += 1"
   ]
  },
  {
   "cell_type": "code",
   "execution_count": 1,
   "metadata": {},
   "outputs": [
    {
     "name": "stdout",
     "output_type": "stream",
     "text": [
      "9 is not a prime number\n"
     ]
    }
   ],
   "source": [
    "num = int(input(\"enter the numebr\"))\n",
    "flag = False\n",
    "for i in range(2,num):\n",
    "    if(num %i) ==0:\n",
    "        flag  = True\n",
    "        break\n",
    "\n",
    "if flag:\n",
    "    print(f\"{num} is not a prime number\")\n",
    "else:\n",
    "    print(f\"{num} is prime number\") "
   ]
  },
  {
   "cell_type": "code",
   "execution_count": 4,
   "metadata": {},
   "outputs": [
    {
     "name": "stdout",
     "output_type": "stream",
     "text": [
      "55\n"
     ]
    }
   ],
   "source": [
    "num = int(input(\"enter the numebr\"))\n",
    "i  = 1\n",
    "sum = 0\n",
    "while i <= num:\n",
    "    sum += i\n",
    "    i+=1\n",
    "else:\n",
    "    print(sum)"
   ]
  },
  {
   "cell_type": "code",
   "execution_count": 31,
   "metadata": {},
   "outputs": [
    {
     "name": "stdout",
     "output_type": "stream",
     "text": [
      "the factorial of 1 is 1\n"
     ]
    }
   ],
   "source": [
    "num =  int(input(\"enter the number\"))\n",
    "product  =  1\n",
    "for i in range(1, num+1):\n",
    "    product  =  product*i\n",
    "print(f\"the factorial of {num} is {product}\")"
   ]
  },
  {
   "cell_type": "code",
   "execution_count": 1,
   "metadata": {},
   "outputs": [
    {
     "name": "stdout",
     "output_type": "stream",
     "text": [
      "    *\n",
      "   ***\n",
      "  *****\n",
      " *******\n",
      "*********\n"
     ]
    }
   ],
   "source": [
    "n =  5\n",
    "\n",
    "for i in range(1, n+1):\n",
    "    print(\" \"* (n-i), end=\"\")\n",
    "    print(\"*\"* (2*i-1), end=\"\")\n",
    "    print(\"\")"
   ]
  },
  {
   "cell_type": "code",
   "execution_count": 4,
   "metadata": {},
   "outputs": [
    {
     "name": "stdout",
     "output_type": "stream",
     "text": [
      "*\n",
      "**\n",
      "***\n",
      "****\n",
      "*****\n"
     ]
    }
   ],
   "source": [
    "n =  5\n",
    "\n",
    "for i in range(1, n+1):\n",
    "    print(\"*\"* i, end=\"\")\n",
    "    print(\"\")                                                      "
   ]
  },
  {
   "cell_type": "code",
   "execution_count": 6,
   "metadata": {},
   "outputs": [
    {
     "name": "stdout",
     "output_type": "stream",
     "text": [
      "****\n",
      "***\n",
      "**\n",
      "*\n",
      "\n"
     ]
    }
   ],
   "source": [
    "n =  5\n",
    "\n",
    "for i in range(1, n+1):\n",
    "    print(\"*\"* (n-i), end=\"\")\n",
    "    print(\"\")                                                      "
   ]
  },
  {
   "cell_type": "code",
   "execution_count": 16,
   "metadata": {},
   "outputs": [
    {
     "name": "stdout",
     "output_type": "stream",
     "text": [
      "\n",
      "****\n",
      "*  *\n",
      "*  *\n",
      "****"
     ]
    }
   ],
   "source": [
    "n = 4\n",
    "for i in range(0, n):\n",
    "    print()\n",
    "    for j in range(0, n):\n",
    "        if i == 0 or i == n-1 or j == 0 or j == n-1:\n",
    "            print(\"*\",end=\"\")\n",
    "        else:\n",
    "            print(\" \",end=\"\")"
   ]
  },
  {
   "cell_type": "code",
   "execution_count": 3,
   "metadata": {},
   "outputs": [
    {
     "name": "stdout",
     "output_type": "stream",
     "text": [
      "5 X 10 = 50\n",
      "5 X 9 = 45\n",
      "5 X 8 = 40\n",
      "5 X 7 = 35\n",
      "5 X 6 = 30\n",
      "5 X 5 = 25\n",
      "5 X 4 = 20\n",
      "5 X 3 = 15\n",
      "5 X 2 = 10\n",
      "5 X 1 = 5\n"
     ]
    }
   ],
   "source": [
    "n =5\n",
    "for i in range(1, 11):\n",
    "    print(f\"{n} X {11-i} = {n*(11-i)}\")\n"
   ]
  },
  {
   "cell_type": "markdown",
   "metadata": {},
   "source": [
    "<h1>Functions & Recursions </h1>\n",
    "<p>Group of Statement performing a specific task</p>"
   ]
  },
  {
   "cell_type": "code",
   "execution_count": 4,
   "metadata": {},
   "outputs": [
    {
     "name": "stdout",
     "output_type": "stream",
     "text": [
      "hello coder's harshith come back\n"
     ]
    }
   ],
   "source": [
    "def display():\n",
    "    print(\"hello coder's harshith come back\")\n",
    "\n",
    "display()"
   ]
  },
  {
   "cell_type": "code",
   "execution_count": 8,
   "metadata": {},
   "outputs": [
    {
     "name": "stdout",
     "output_type": "stream",
     "text": [
      "13.333333333333334\n"
     ]
    }
   ],
   "source": [
    "def average():\n",
    "    a = int(input(\"Enter the number\"))\n",
    "    b = int(input(\"Enter the number\"))\n",
    "    c = int(input(\"Enter the number\"))\n",
    "    print((a + b +c)/3)\n",
    "\n",
    "average() "
   ]
  },
  {
   "cell_type": "code",
   "execution_count": null,
   "metadata": {},
   "outputs": [
    {
     "name": "stdout",
     "output_type": "stream",
     "text": [
      "good day jarvis\n"
     ]
    }
   ],
   "source": [
    "def gd(name): # function with arguments\n",
    "    print(f\"good day {name}\")\n",
    "\n",
    "gd(\"jarvis\")"
   ]
  },
  {
   "cell_type": "code",
   "execution_count": 12,
   "metadata": {},
   "outputs": [
    {
     "name": "stdout",
     "output_type": "stream",
     "text": [
      "good day jarvis\n"
     ]
    }
   ],
   "source": [
    "def gd(name): # function with arguments\n",
    "   return f\"good day {name}\"\n",
    "\n",
    "a  = gd(\"jarvis\")\n",
    "print(a)"
   ]
  },
  {
   "cell_type": "code",
   "execution_count": 18,
   "metadata": {},
   "outputs": [
    {
     "name": "stdout",
     "output_type": "stream",
     "text": [
      "good day jarvis \n",
      "thank you\n",
      "\n",
      "good day jescy \n",
      "thanks\n",
      "\n"
     ]
    }
   ],
   "source": [
    "# defualt value\n",
    "def gd(name, ending=\"thank you\"):\n",
    "    print(f\"good day {name} \\n{ending}\\n\")\n",
    "\n",
    "gd(\"jarvis\")\n",
    "gd(\"jescy\",\"thanks\")"
   ]
  },
  {
   "cell_type": "markdown",
   "metadata": {},
   "source": [
    "<h3>Recursion</h3>"
   ]
  },
  {
   "cell_type": "code",
   "execution_count": 29,
   "metadata": {},
   "outputs": [
    {
     "data": {
      "text/plain": [
       "24"
      ]
     },
     "execution_count": 29,
     "metadata": {},
     "output_type": "execute_result"
    }
   ],
   "source": [
    "def fact(n):\n",
    "    if (n==1 or n==0):\n",
    "        return 1\n",
    "    return n * fact(n-1)\n",
    "\n",
    "fact(int(input(\"enter the number\")))"
   ]
  },
  {
   "cell_type": "code",
   "execution_count": 33,
   "metadata": {},
   "outputs": [
    {
     "name": "stdout",
     "output_type": "stream",
     "text": [
      "40\n"
     ]
    }
   ],
   "source": [
    "# function and recursion practice set\n",
    "def great():\n",
    "    a = int(input(\"Enter the number\"))\n",
    "    b = int(input(\"Enter the number\"))\n",
    "    c = int(input(\"Enter the number\"))\n",
    "    if ( a > b and a > c):\n",
    "        return a\n",
    "    elif b > a and b > c :\n",
    "        return b\n",
    "    return c\n",
    "\n",
    "result  =  great()\n",
    "print(result)"
   ]
  },
  {
   "cell_type": "code",
   "execution_count": 41,
   "metadata": {},
   "outputs": [
    {
     "name": "stdout",
     "output_type": "stream",
     "text": [
      "37.78\n"
     ]
    }
   ],
   "source": [
    "# celsius to fahrenheit\n",
    "def f_to_c(f):\n",
    "    return 5*(f-32)/9\n",
    "\n",
    "f =  int(input(\"Enter temperature in F: \"))\n",
    "print(round(f_to_c(f),2))"
   ]
  },
  {
   "cell_type": "code",
   "execution_count": 43,
   "metadata": {},
   "outputs": [
    {
     "name": "stdout",
     "output_type": "stream",
     "text": [
      "coder coder"
     ]
    }
   ],
   "source": [
    "print(\"coder\",end=\" \")\n",
    "print(\"coder\",end=\"\")\n"
   ]
  },
  {
   "cell_type": "code",
   "execution_count": 49,
   "metadata": {},
   "outputs": [
    {
     "name": "stdout",
     "output_type": "stream",
     "text": [
      "10\n"
     ]
    }
   ],
   "source": [
    "def sum(n):\n",
    "    if n ==1:\n",
    "        return 1\n",
    "    return sum(n-1) + n\n",
    "print(sum(4))"
   ]
  },
  {
   "cell_type": "code",
   "execution_count": 52,
   "metadata": {},
   "outputs": [
    {
     "name": "stdout",
     "output_type": "stream",
     "text": [
      "***\n",
      "**\n",
      "*\n"
     ]
    }
   ],
   "source": [
    "def pattren(n):\n",
    "    if n == 0:\n",
    "        return\n",
    "    print(\"*\"*n)\n",
    "    pattren(n-1)\n",
    "\n",
    "pattren(3)"
   ]
  },
  {
   "cell_type": "code",
   "execution_count": 56,
   "metadata": {},
   "outputs": [
    {
     "name": "stdout",
     "output_type": "stream",
     "text": [
      "25.4\n"
     ]
    }
   ],
   "source": [
    "def inch_to_cms(inch):\n",
    "    return inch * 2.54\n",
    "\n",
    "inch = int(input(\"enter the inches value: \"))\n",
    "print(inch_to_cms(inch))"
   ]
  },
  {
   "cell_type": "code",
   "execution_count": 62,
   "metadata": {},
   "outputs": [
    {
     "name": "stdout",
     "output_type": "stream",
     "text": [
      "['jarvis', 'coder ']\n"
     ]
    }
   ],
   "source": [
    "def rem(l, word):\n",
    "    n = []\n",
    "    for item in l:\n",
    "        if not(item == word):\n",
    "            n.append(item.strip(word))\n",
    "    return n\n",
    "\n",
    "l = [\"jarvis\",\"coder lg\",\"lg\"]\n",
    "print(rem(l, \"lg\"))"
   ]
  },
  {
   "cell_type": "code",
   "execution_count": 66,
   "metadata": {},
   "outputs": [
    {
     "name": "stdout",
     "output_type": "stream",
     "text": [
      "5 X 1 = 5\n",
      "5 X 2 = 10\n",
      "5 X 3 = 15\n",
      "5 X 4 = 20\n",
      "5 X 5 = 25\n",
      "5 X 6 = 30\n",
      "5 X 7 = 35\n",
      "5 X 8 = 40\n",
      "5 X 9 = 45\n",
      "5 X 10 = 50\n"
     ]
    }
   ],
   "source": [
    "def multiply(n):\n",
    "    for i in range(1,11):\n",
    "        print(f\"{n} X {i} = {n*i}\")\n",
    "\n",
    "multiply(5)"
   ]
  },
  {
   "cell_type": "markdown",
   "metadata": {},
   "source": [
    "<h1>Project</h1>"
   ]
  },
  {
   "cell_type": "code",
   "execution_count": 122,
   "metadata": {},
   "outputs": [
    {
     "name": "stdout",
     "output_type": "stream",
     "text": [
      "you win\n",
      "computer choice g \n",
      "your choice s\n"
     ]
    }
   ],
   "source": [
    "# very small project\n",
    "import random\n",
    "\n",
    "def game(u):\n",
    "    l =  [1,-1,0]\n",
    "    c  = random.choice(l)\n",
    "\n",
    "    if  c== u:\n",
    "          print(\"game draw\")\n",
    "    else:\n",
    "        if c == -1 and u == 1:\n",
    "            print(\"you win\")\n",
    "        elif c == -1 and u ==0:\n",
    "            print(\"computer win\")\n",
    "        elif c == 1 and u ==-1:\n",
    "            print(\"computer win\")\n",
    "        elif c == 1 and u == 0:\n",
    "            print(\"you win\")\n",
    "        elif c == 0 and u == 1:\n",
    "            print(\"you win\")\n",
    "        elif c == 0 and u ==-1:\n",
    "            print(\"computer win\")\n",
    "        else:\n",
    "            print(\"something went wrong\")\n",
    "    return c\n",
    "\n",
    "user_ch  = input(\"enter your choice: \")\n",
    "userDict = {\"s\":1,\"w\":-1,\"g\":0}\n",
    "user = userDict[user_ch]\n",
    "cc = game(user)\n",
    "\n",
    "for key, val in userDict.items():\n",
    "    if cc == val:\n",
    "        print(f\"computer choice {key} \\nyour choice {user_ch}\")\n",
    "\n"
   ]
  },
  {
   "cell_type": "code",
   "execution_count": null,
   "metadata": {},
   "outputs": [
    {
     "name": "stdout",
     "output_type": "stream",
     "text": [
      "computer win\n",
      "computer choice w \n",
      "your choice s\n"
     ]
    }
   ],
   "source": [
    "# simplyfiyed small project\n",
    "import random\n",
    "\n",
    "def game(u):\n",
    "    l =  [1,-1,0]\n",
    "    c  = random.choice(l)\n",
    "\n",
    "    if  c== u:\n",
    "          print(\"game draw\")\n",
    "    else:\n",
    "       if (c - u) == -1 or (c - u) == 2:\n",
    "           print(\"computer win\")\n",
    "       else:\n",
    "           print(\"you win\")\n",
    "    return c\n",
    "\n",
    "user_ch  = input(\"enter your choice: \")\n",
    "userDict = {\"s\":1,\"w\":-1,\"g\":0}\n",
    "user = userDict[user_ch]\n",
    "cc = game(user)\n",
    "\n",
    "for key, val in userDict.items():\n",
    "    if cc == val:\n",
    "        print(f\"computer choice {key} \\nyour choice {user_ch}\")\n",
    "\n"
   ]
  },
  {
   "cell_type": "markdown",
   "metadata": {},
   "source": [
    "<h1>File I/O</h1>"
   ]
  },
  {
   "cell_type": "code",
   "execution_count": 2,
   "metadata": {},
   "outputs": [
    {
     "name": "stdout",
     "output_type": "stream",
     "text": [
      "coderharshith\n"
     ]
    }
   ],
   "source": [
    "f  =  open('file.txt')\n",
    "data =  f.read()\n",
    "print(data)\n",
    "f.close()"
   ]
  },
  {
   "cell_type": "code",
   "execution_count": 4,
   "metadata": {},
   "outputs": [
    {
     "name": "stdout",
     "output_type": "stream",
     "text": [
      "coderharshith can code\n"
     ]
    }
   ],
   "source": [
    "f  =  open('file1.txt',\"w\")\n",
    "f.write(\"coderharshith can code\")\n",
    "f  =  open('file1.txt',\"r\")\n",
    "data =  f.read()\n",
    "print(data)\n",
    "f.close()"
   ]
  },
  {
   "cell_type": "code",
   "execution_count": null,
   "metadata": {},
   "outputs": [
    {
     "name": "stdout",
     "output_type": "stream",
     "text": [
      "coderharshith can code\n",
      " <class 'str'>\n",
      "harshith can code now\n",
      "\n",
      "master coderharshith\n",
      "\n",
      "professional coder\n",
      "\n"
     ]
    }
   ],
   "source": [
    "f  =  open('file1.txt')\n",
    "l1 =  f.readline()\n",
    "print(l1,type(l1))\n",
    "l2 =  f.readline()\n",
    "print(l2)\n",
    "l3 =  f.readline()\n",
    "print(l3)\n",
    "l4 =  f.readline()\n",
    "print(l4)\n",
    "l5 =  f.readline()\n",
    "print(l5 == \"\") # it will run till it get empty tsting\n",
    "f.close()"
   ]
  },
  {
   "cell_type": "code",
   "execution_count": 8,
   "metadata": {},
   "outputs": [
    {
     "name": "stdout",
     "output_type": "stream",
     "text": [
      "['coderharshith can code\\n', 'harshith can code now\\n', 'master coderharshith\\n', 'professional coder']\n"
     ]
    }
   ],
   "source": [
    "f  =  open('file1.txt')\n",
    "data =  f.readlines()\n",
    "print(data)\n",
    "f.close()"
   ]
  },
  {
   "cell_type": "code",
   "execution_count": 15,
   "metadata": {},
   "outputs": [
    {
     "name": "stdout",
     "output_type": "stream",
     "text": [
      "coderharshith can code\n",
      "\n",
      "harshith can code now\n",
      "\n",
      "master coderharshith\n",
      "\n",
      "professional coder\n"
     ]
    }
   ],
   "source": [
    "f  =  open('file1.txt')\n",
    "line = f.readline()\n",
    "while(line  != \"\"):\n",
    "    print(line)\n",
    "    line = f.readline()\n",
    "f.close()"
   ]
  },
  {
   "cell_type": "code",
   "execution_count": 23,
   "metadata": {},
   "outputs": [],
   "source": [
    "f  =  open(\"file.txt\",\"a\")\n",
    "f.write(\"\\nlove your slef with the power\")\n",
    "f.close()"
   ]
  },
  {
   "cell_type": "code",
   "execution_count": 24,
   "metadata": {},
   "outputs": [
    {
     "name": "stdout",
     "output_type": "stream",
     "text": [
      "coderharshith\n",
      "love your slef with the power\n",
      "love your slef with the power\n",
      "love your slef with the power\n"
     ]
    }
   ],
   "source": [
    "with open(\"file.txt\") as f:\n",
    "    print(f.read())"
   ]
  },
  {
   "cell_type": "markdown",
   "metadata": {},
   "source": [
    "<h4>file practice</h4>"
   ]
  },
  {
   "cell_type": "code",
   "execution_count": 27,
   "metadata": {},
   "outputs": [
    {
     "name": "stdout",
     "output_type": "stream",
     "text": [
      "True\n"
     ]
    }
   ],
   "source": [
    "f  =  open(\"twin.txt\",\"w\")\n",
    "f.write(\"check this can be twinkle star in the world\")\n",
    "f = open(\"twin.txt\")\n",
    "data  = f.read()\n",
    "print(data.__contains__(\"twinkle\"))\n",
    "f.close()"
   ]
  },
  {
   "cell_type": "code",
   "execution_count": null,
   "metadata": {},
   "outputs": [
    {
     "name": "stdout",
     "output_type": "stream",
     "text": [
      "you are playing the game\n",
      "your score: {score}\n"
     ]
    },
    {
     "data": {
      "text/plain": [
       "60"
      ]
     },
     "execution_count": 32,
     "metadata": {},
     "output_type": "execute_result"
    }
   ],
   "source": [
    "import random\n",
    "def game():\n",
    "    print(\"you are playing the game\")\n",
    "    score =  random.randint(1,62)\n",
    "    # Fetch the hiscore \n",
    "    with open(\"hiscore.txt\") as f:\n",
    "        hiscore = f.read()\n",
    "        if hiscore != \"\":\n",
    "            hiscore = int(hiscore)\n",
    "        else:\n",
    "            hiscore = 0\n",
    "            \n",
    "    print(\"your score: {score}\")\n",
    "    if(score>hiscore):\n",
    "        # write this hiscorw to the file\n",
    "        with open(\"hiscore.txt\",\"w\") as f:\n",
    "            f.write(str(score))\n",
    "    return score\n",
    "\n",
    "game()"
   ]
  },
  {
   "cell_type": "code",
   "execution_count": 37,
   "metadata": {},
   "outputs": [],
   "source": [
    "def generateTable(n):\n",
    "    table= \"\"\n",
    "    for i in range(1,11):\n",
    "        table += f\"{n} X {i} = {n*i}\\n\"\n",
    "        \n",
    "    with open(f\"table/table_{n}.txt\",\"w\") as f:\n",
    "        f.write(table)\n",
    "\n",
    "\n",
    "for i in range(2,21):\n",
    "    generateTable(i)"
   ]
  },
  {
   "cell_type": "code",
   "execution_count": 45,
   "metadata": {},
   "outputs": [],
   "source": [
    "words = [\"donkey\",\"bad\",\"sing\"]\n",
    "with open(\"donkey.txt\") as f:\n",
    "    content  = f.read()\n",
    "    \n",
    "for word in words:\n",
    "    content  =  content.replace(word,\"#\"*len(word))\n",
    "\n",
    "with open(\"donkey.txt\",\"w\") as f:\n",
    "    f.write(content)"
   ]
  },
  {
   "cell_type": "code",
   "execution_count": 47,
   "metadata": {},
   "outputs": [
    {
     "name": "stdout",
     "output_type": "stream",
     "text": [
      "no not exist\n"
     ]
    }
   ],
   "source": [
    "with open(\"twin.txt\") as f:\n",
    "    content = f.read()\n",
    "\n",
    "if (\"Python1\" in content):\n",
    "    print(\"Yes it's there\")\n",
    "else:\n",
    "    print(\"no not exist\")"
   ]
  },
  {
   "cell_type": "code",
   "execution_count": 5,
   "metadata": {},
   "outputs": [
    {
     "name": "stdout",
     "output_type": "stream",
     "text": [
      "Yes it's there, Line no:9\n"
     ]
    }
   ],
   "source": [
    "lines = 1\n",
    "with open(\"twin.txt\") as f:\n",
    "    lines = f.readlines()\n",
    "\n",
    "line_num = 1\n",
    "for line in lines:\n",
    "    if (\"Python\" in line):\n",
    "        print(f\"Yes it's there, Line no:{line_num}\")\n",
    "        break # if we use break then else will not work \n",
    "    line_num += 1\n",
    "else:\n",
    "    print(\"no not exist\")"
   ]
  },
  {
   "cell_type": "code",
   "execution_count": 6,
   "metadata": {},
   "outputs": [],
   "source": [
    "content =\"\"\n",
    "with open(\"this.txt\") as f:\n",
    "    content =  f.read()\n",
    "\n",
    "with open(\"thiscopy.txt\", \"w\") as f:\n",
    "    f.write(content) "
   ]
  },
  {
   "cell_type": "code",
   "execution_count": 10,
   "metadata": {},
   "outputs": [
    {
     "name": "stdout",
     "output_type": "stream",
     "text": [
      "they both are not same\n"
     ]
    }
   ],
   "source": [
    "with open(\"file.txt\") as f:\n",
    "    content1  = f.read()\n",
    "\n",
    "with open(\"file1.txt\") as f:\n",
    "    content2  = f.read()\n",
    "\n",
    "if content1 ==  content2:\n",
    "    print(\"Print yes these file are same\")\n",
    "else:\n",
    "    print(\"they both are not same\")"
   ]
  },
  {
   "cell_type": "code",
   "execution_count": 12,
   "metadata": {},
   "outputs": [],
   "source": [
    "with open(\"file.txt\") as f:\n",
    "    content1  = f.read()\n",
    "\n",
    "with open(\"renamed_by_python.txt\",\"w\") as f:\n",
    "    f.write(content1)"
   ]
  },
  {
   "cell_type": "markdown",
   "metadata": {},
   "source": [
    "<h1>Object Oriented Program</h1>"
   ]
  },
  {
   "cell_type": "code",
   "execution_count": null,
   "metadata": {},
   "outputs": [
    {
     "name": "stdout",
     "output_type": "stream",
     "text": [
      "Harshith M Python 1750000\n",
      "Roronoa Zoro Python 1750000\n"
     ]
    }
   ],
   "source": [
    "class Employee:\n",
    "    language = \"Python\" #this is the class attribute\n",
    "    Salary = 1750000\n",
    "\n",
    "harshith  =  Employee()\n",
    "harshith.name  = \"Harshith M\" # this is object or instence attribute\n",
    "print(harshith.name, harshith.language, harshith.Salary)\n",
    "\n",
    "\n",
    "zoro  =  Employee()\n",
    "zoro.name = \"Roronoa Zoro\"\n",
    "print(zoro.name,zoro.language, zoro.Salary)\n",
    "\n",
    "# here name is object attribute and salary and language is class attribute\n",
    "# as they directly belong to the class\n"
   ]
  },
  {
   "cell_type": "code",
   "execution_count": null,
   "metadata": {},
   "outputs": [
    {
     "name": "stdout",
     "output_type": "stream",
     "text": [
      "JavaScript 1750000\n"
     ]
    }
   ],
   "source": [
    "class Employee:\n",
    "    language = \"Python\" #this is the class attribute\n",
    "    Salary = 1750000\n",
    "\n",
    "harshith  =  Employee()\n",
    "harshith.language  = \"JavaScript\" # this is object or instence attribute it as more prefernce's\n",
    "print(harshith.language, harshith.Salary)\n"
   ]
  },
  {
   "cell_type": "code",
   "execution_count": null,
   "metadata": {},
   "outputs": [
    {
     "name": "stdout",
     "output_type": "stream",
     "text": [
      "Python 1750000\n",
      "the language is Python. the salary is 1750000\n",
      "good afternoon\n"
     ]
    }
   ],
   "source": [
    "class Employee:\n",
    "    language = \"Python\" #this is the class attribute\n",
    "    Salary = 1750000\n",
    "\n",
    "    def getInfo(self):\n",
    "        print(f\"the language is {self.language}. the salary is {self.Salary}\")\n",
    "\n",
    "    @staticmethod # it's decoretor\n",
    "    def greet():\n",
    "        print(\"good afternoon\")\n",
    "\n",
    "harshith  =  Employee()\n",
    "# harshith.language  = \"JavaScript\" # this is object or instence attribute it as more prefernce's\n",
    "print(harshith.language, harshith.Salary)\n",
    "\n",
    "harshith.getInfo()\n",
    "harshith.greet()\n",
    "# above statement converted to below one\n",
    "# Employee.getinfo(harshith)\n",
    "# so it give error TypeError: Employee.getinfo() takes 0 positional arguments but 1 was given\n",
    "# we should use self keyword in function "
   ]
  },
  {
   "cell_type": "code",
   "execution_count": 16,
   "metadata": {},
   "outputs": [
    {
     "name": "stdout",
     "output_type": "stream",
     "text": [
      "i'm creating an object\n",
      "Harshith M 180000 JavaScript\n"
     ]
    }
   ],
   "source": [
    "class Employee:\n",
    "    language = \"Python\" #this is the class attribute\n",
    "    Salary = 1750000\n",
    "\n",
    "    def __init__(self,name,language,Salary): # it's an special method dunder method which is automaticaly callled \n",
    "        self.name = name\n",
    "        self.language = language\n",
    "        self.Salary =  Salary\n",
    "        print(\"i'm creating an object\")\n",
    "\n",
    "    def getInfo(self):\n",
    "        print(f\"the language is {self.language}. the salary is {self.Salary}\")\n",
    "\n",
    "\n",
    "    @staticmethod # it's decoretor\n",
    "    def greet():\n",
    "        print(\"good afternoon\")\n",
    "\n",
    "harshith  =  Employee(\"Harshith M\",\"JavaScript\",180000)\n",
    "print(harshith.name, harshith.Salary,harshith.language)\n",
    "\n",
    "\n",
    "# zoro = Employee()\n",
    "# print"
   ]
  },
  {
   "cell_type": "code",
   "execution_count": null,
   "metadata": {},
   "outputs": [],
   "source": [
    "# object Practice set"
   ]
  },
  {
   "cell_type": "code",
   "execution_count": null,
   "metadata": {},
   "outputs": [
    {
     "name": "stdout",
     "output_type": "stream",
     "text": [
      "Harshith 180000 570011\n"
     ]
    }
   ],
   "source": [
    "class Programmer:\n",
    "    company =  \"Microsoft\"\n",
    "    def __init__(self,name,salary,pin):\n",
    "        self.name =  name\n",
    "        self.salary  = salary\n",
    "        self.pin  = pin\n",
    "        \n",
    "p  =  Programmer(\"Harshith\",180000,570011)\n",
    "print(p.name,p.salary,p.pin)\n",
    "r  =  Programmer(\"roronoa\",180000,570011)\n",
    "print(r.name,r.salary,r.pin)"
   ]
  },
  {
   "cell_type": "code",
   "execution_count": 21,
   "metadata": {},
   "outputs": [
    {
     "name": "stdout",
     "output_type": "stream",
     "text": [
      "The squre is 16\n",
      "The cube is 64\n",
      "The squre is 2.0\n"
     ]
    }
   ],
   "source": [
    "class Calculator:\n",
    "    def __init__(self,n):\n",
    "        self.n = n\n",
    "\n",
    "    def square(self):\n",
    "        print(f\"The squre is {self.n*self.n}\")\n",
    "\n",
    "    def cube(self):\n",
    "        print(f\"The cube is {self.n*self.n*self.n}\")\n",
    "\n",
    "    def squareroot(self):\n",
    "        print(f\"The squre is {self.n**1/2}\")\n",
    "\n",
    "a  = Calculator(4)\n",
    "a.square()\n",
    "a.cube()\n",
    "a.squareroot()"
   ]
  },
  {
   "cell_type": "code",
   "execution_count": null,
   "metadata": {},
   "outputs": [
    {
     "name": "stdout",
     "output_type": "stream",
     "text": [
      "4\n",
      "0\n",
      "4\n"
     ]
    }
   ],
   "source": [
    "class Deom:\n",
    "    a = 4\n",
    "\n",
    "\n",
    "o =Deom()\n",
    "print(o.a) # Prints the class attribute becouse instance attribute is nit present\n",
    "o.a = 0 # instance attribute is set\n",
    "print(o.a) # prints the instance attribute\n",
    "print(Deom.a) # prints the class attribute"
   ]
  },
  {
   "cell_type": "code",
   "execution_count": 26,
   "metadata": {},
   "outputs": [
    {
     "name": "stdout",
     "output_type": "stream",
     "text": [
      "hello coder's\n",
      "The squre is 16\n",
      "The cube is 64\n",
      "The squre is 2.0\n"
     ]
    }
   ],
   "source": [
    "class Calculator:\n",
    "    def __init__(self,n):\n",
    "        self.n = n\n",
    "\n",
    "    def square(self):\n",
    "        print(f\"The squre is {self.n*self.n}\")\n",
    "\n",
    "    def cube(self):\n",
    "        print(f\"The cube is {self.n*self.n*self.n}\")\n",
    "\n",
    "    def squareroot(self):\n",
    "        print(f\"The squre is {self.n**1/2}\")\n",
    "\n",
    "    @staticmethod\n",
    "    def greet():\n",
    "        print(\"hello coder's\")\n",
    "    \n",
    "\n",
    "\n",
    "\n",
    "a  = Calculator(4)\n",
    "a.greet()\n",
    "a.square()\n",
    "a.cube()\n",
    "a.squareroot()"
   ]
  },
  {
   "cell_type": "code",
   "execution_count": 29,
   "metadata": {},
   "outputs": [
    {
     "name": "stdout",
     "output_type": "stream",
     "text": [
      "Ticket is booked in train no: 123 from Rampur to Delhi\n",
      "Train no: 123 is running on time\n",
      "Ticket is Fare in train no: 123 from Rampur to Delhi is 4544\n"
     ]
    }
   ],
   "source": [
    "from random import randint\n",
    "class Train:\n",
    "\n",
    "    def __init__(self,trainNo):\n",
    "        self.trainNo  = trainNo\n",
    "\n",
    "    def book(self, fro,to):\n",
    "        print(f\"Ticket is booked in train no: {self.trainNo} from {fro} to {to}\")\n",
    "\n",
    "    def getStatus(self):\n",
    "        print(f\"Train no: {self.trainNo} is running on time\")\n",
    "\n",
    "    def getFare(self, fro,to):\n",
    "        print(f\"Ticket is Fare in train no: {self.trainNo} from {fro} to {to} is {randint(222,5555)}\")\n",
    "\n",
    "\n",
    "t = Train(123)\n",
    "t.book(\"Rampur\",\"Delhi\")\n",
    "t.getStatus()\n",
    "t.getFare(\"Rampur\",\"Delhi\")\n"
   ]
  },
  {
   "cell_type": "code",
   "execution_count": null,
   "metadata": {},
   "outputs": [
    {
     "name": "stdout",
     "output_type": "stream",
     "text": [
      "Ticket is booked in train no: 123 from Rampur to Delhi\n",
      "Train no: 123 is running on time\n",
      "Ticket is Fare in train no: 123 from Rampur to Delhi is 982\n"
     ]
    }
   ],
   "source": [
    "from random import randint\n",
    "class Train:\n",
    "\n",
    "    def __init__(slf,trainNo):\n",
    "        slf.trainNo  = trainNo\n",
    "\n",
    "    def book(coder, fro,to): #u will get out put no issue\n",
    "        print(f\"Ticket is booked in train no: {coder.trainNo} from {fro} to {to}\")\n",
    "\n",
    "    def getStatus(self):\n",
    "        print(f\"Train no: {self.trainNo} is running on time\")\n",
    "\n",
    "    def getFare(self, fro,to):\n",
    "        print(f\"Ticket is Fare in train no: {self.trainNo} from {fro} to {to} is {randint(222,5555)}\")\n",
    "\n",
    "\n",
    "t = Train(123)\n",
    "t.book(\"Rampur\",\"Delhi\")\n",
    "t.getStatus()\n",
    "t.getFare(\"Rampur\",\"Delhi\")\n"
   ]
  },
  {
   "cell_type": "markdown",
   "metadata": {},
   "source": [
    "<h1>Inheritance and more on opps <h1> "
   ]
  },
  {
   "cell_type": "code",
   "execution_count": null,
   "metadata": {},
   "outputs": [],
   "source": []
  }
 ],
 "metadata": {
  "kernelspec": {
   "display_name": "Python 3",
   "language": "python",
   "name": "python3"
  },
  "language_info": {
   "codemirror_mode": {
    "name": "ipython",
    "version": 3
   },
   "file_extension": ".py",
   "mimetype": "text/x-python",
   "name": "python",
   "nbconvert_exporter": "python",
   "pygments_lexer": "ipython3",
   "version": "3.13.2"
  }
 },
 "nbformat": 4,
 "nbformat_minor": 2
}
